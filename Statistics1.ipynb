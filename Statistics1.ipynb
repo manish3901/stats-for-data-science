{
  "nbformat": 4,
  "nbformat_minor": 0,
  "metadata": {
    "colab": {
      "name": "Statistics1.ipynb",
      "provenance": [],
      "collapsed_sections": []
    },
    "kernelspec": {
      "name": "python3",
      "display_name": "Python 3"
    },
    "language_info": {
      "name": "python"
    }
  },
  "cells": [
    {
      "cell_type": "markdown",
      "source": [
        "# Statistics Part1"
      ],
      "metadata": {
        "id": "K3RnuUtrFQ7a"
      }
    },
    {
      "cell_type": "code",
      "source": [
        "### Outliers"
      ],
      "metadata": {
        "id": "OE7gB1BLFYJO"
      },
      "execution_count": 1,
      "outputs": []
    },
    {
      "cell_type": "code",
      "source": [
        "import numpy as np\n",
        "import matplotlib.pyplot as plt\n",
        "%matplotlib inline \n",
        "import seaborn as sns"
      ],
      "metadata": {
        "id": "Wd01jPdU5p8-"
      },
      "execution_count": 2,
      "outputs": []
    },
    {
      "cell_type": "code",
      "source": [
        "# Define a dataset for practice\n",
        "dataset= [11,10,12,14,12,15,14,13,15,102,12,14,17,19,107, 10,13,12,14,12,108,12,11,14,13,15,10,15,12,10,14,13,15,10]"
      ],
      "metadata": {
        "id": "H_KRe40F510L"
      },
      "execution_count": 3,
      "outputs": []
    },
    {
      "cell_type": "code",
      "source": [
        "#Check for distribution of dataset\n",
        "plt.hist(dataset)"
      ],
      "metadata": {
        "colab": {
          "base_uri": "https://localhost:8080/",
          "height": 334
        },
        "id": "T7EALy9m-m5j",
        "outputId": "5eecc76c-0bd6-4696-fb77-4beb8ad05a26"
      },
      "execution_count": 4,
      "outputs": [
        {
          "output_type": "execute_result",
          "data": {
            "text/plain": [
              "(array([31.,  0.,  0.,  0.,  0.,  0.,  0.,  0.,  0.,  3.]),\n",
              " array([ 10. ,  19.8,  29.6,  39.4,  49.2,  59. ,  68.8,  78.6,  88.4,\n",
              "         98.2, 108. ]),\n",
              " <a list of 10 Patch objects>)"
            ]
          },
          "metadata": {},
          "execution_count": 4
        },
        {
          "output_type": "display_data",
          "data": {
            "image/png": "[encoded data removed]",
            "text/plain": [
              "<Figure size 432x288 with 1 Axes>"
            ]
          },
          "metadata": {
            "needs_background": "light"
          }
        }
      ]
    },
    {
      "cell_type": "code",
      "source": [
        "# Compute Z_score formula in python\n",
        "outliers = []\n",
        "\n",
        "def detect_outliers(data):\n",
        "  threshold =3                # threshold=3rd std deviation,anything after 3 std dev will be considered as outliers(68-95-99.7%).\n",
        "\n",
        "  mean=np.mean(data)          # mean(mu) value of the data(avg value)\n",
        "  std=np.std(data)            # std dev (6(sigma)(S.D.))\n",
        "\n",
        "  #apply the zscore formula\n",
        "  for i in data:\n",
        "    z_score=(i-mean)/std                  #z_score=(Xi-u(mu))/std dev(sigma(6))\n",
        "\n",
        "    #check if data falls beow the 3rd std deviation or not((threshold=3))\n",
        "    if np.abs(z_score) > threshold:       #np.abs() to round off the z_score values\n",
        "        outliers.append(i)\n",
        "\n",
        "  return outliers\n"
      ],
      "metadata": {
        "id": "JQG1AcI76Dqu"
      },
      "execution_count": 5,
      "outputs": []
    },
    {
      "cell_type": "code",
      "source": [
        "detect_outliers(dataset)"
      ],
      "metadata": {
        "colab": {
          "base_uri": "https://localhost:8080/"
        },
        "id": "BhYejeqI-esY",
        "outputId": "20bb6268-d08a-431d-c7e1-d3d2cdd3116d"
      },
      "execution_count": 6,
      "outputs": [
        {
          "output_type": "execute_result",
          "data": {
            "text/plain": [
              "[102, 107, 108]"
            ]
          },
          "metadata": {},
          "execution_count": 6
        }
      ]
    },
    {
      "cell_type": "code",
      "source": [
        "# IQR(InterQuatileRange)(In IQR,we find lower_fence & upper_fence)\n",
        "# Q1=25%(percentile)\n",
        "# Q3=75%(percentile)\n",
        "\n",
        "# IQR = Q3-Q1"
      ],
      "metadata": {
        "id": "SlU4Yxow_ERC"
      },
      "execution_count": 7,
      "outputs": []
    },
    {
      "cell_type": "markdown",
      "source": [
        "# IQR steps\n",
        "\n",
        "1.   Sort the data\n",
        "2.   Calculate Q1 & Q3\n",
        "\n",
        "3.   IQR = (Q3-Q1)\n",
        "4.   Find the lower fence = (q1-1.5*IQR)\n",
        "\n",
        "5.   Find the upper fence= (q3+1.5*IQR)"
      ],
      "metadata": {
        "id": "YvoIxYpIAH-u"
      }
    },
    {
      "cell_type": "code",
      "source": [
        "# how to sort dataset\n",
        "print(dataset)\n",
        "dataset =sorted(dataset)    #use inbuilt sorted python fn.\n",
        "dataset"
      ],
      "metadata": {
        "colab": {
          "base_uri": "https://localhost:8080/"
        },
        "id": "oWgz2oC2AwCq",
        "outputId": "5011922f-5a3d-407a-aae2-d2e6d0f9a3d5"
      },
      "execution_count": 8,
      "outputs": [
        {
          "output_type": "stream",
          "name": "stdout",
          "text": [
            "[11, 10, 12, 14, 12, 15, 14, 13, 15, 102, 12, 14, 17, 19, 107, 10, 13, 12, 14, 12, 108, 12, 11, 14, 13, 15, 10, 15, 12, 10, 14, 13, 15, 10]\n"
          ]
        },
        {
          "output_type": "execute_result",
          "data": {
            "text/plain": [
              "[10,\n",
              " 10,\n",
              " 10,\n",
              " 10,\n",
              " 10,\n",
              " 11,\n",
              " 11,\n",
              " 12,\n",
              " 12,\n",
              " 12,\n",
              " 12,\n",
              " 12,\n",
              " 12,\n",
              " 12,\n",
              " 13,\n",
              " 13,\n",
              " 13,\n",
              " 13,\n",
              " 14,\n",
              " 14,\n",
              " 14,\n",
              " 14,\n",
              " 14,\n",
              " 14,\n",
              " 15,\n",
              " 15,\n",
              " 15,\n",
              " 15,\n",
              " 15,\n",
              " 17,\n",
              " 19,\n",
              " 102,\n",
              " 107,\n",
              " 108]"
            ]
          },
          "metadata": {},
          "execution_count": 8
        }
      ]
    },
    {
      "cell_type": "code",
      "source": [
        "# how to find q1 & q3\n",
        "q1,q3 = np.percentile(dataset,[25,75])  #percentile value = (percentile/100) * (n+1) (it vl give inedx range,use mean of index values)"
      ],
      "metadata": {
        "id": "HrclrcTABw9Y"
      },
      "execution_count": 9,
      "outputs": []
    },
    {
      "cell_type": "code",
      "source": [
        "q1"
      ],
      "metadata": {
        "colab": {
          "base_uri": "https://localhost:8080/"
        },
        "id": "rCMZ1ioECt4g",
        "outputId": "760f1b00-0e7c-42ff-8e78-2a22ccf8b374"
      },
      "execution_count": 10,
      "outputs": [
        {
          "output_type": "execute_result",
          "data": {
            "text/plain": [
              "12.0"
            ]
          },
          "metadata": {},
          "execution_count": 10
        }
      ]
    },
    {
      "cell_type": "code",
      "source": [
        "q3"
      ],
      "metadata": {
        "colab": {
          "base_uri": "https://localhost:8080/"
        },
        "id": "fe9RRsTXDYD0",
        "outputId": "68cfb6eb-4986-4d2d-cb06-9337c3992aef"
      },
      "execution_count": 11,
      "outputs": [
        {
          "output_type": "execute_result",
          "data": {
            "text/plain": [
              "15.0"
            ]
          },
          "metadata": {},
          "execution_count": 11
        }
      ]
    },
    {
      "cell_type": "code",
      "source": [
        "print(q1,q3)"
      ],
      "metadata": {
        "colab": {
          "base_uri": "https://localhost:8080/"
        },
        "id": "nulzx8Z1Dc6j",
        "outputId": "3d4821d9-83d4-4348-ee80-0dd7cd1f65b0"
      },
      "execution_count": 12,
      "outputs": [
        {
          "output_type": "stream",
          "name": "stdout",
          "text": [
            "12.0 15.0\n"
          ]
        }
      ]
    },
    {
      "cell_type": "code",
      "source": [
        "# IQR = q3-q1\n",
        "iqr = q3 -q1\n",
        "iqr"
      ],
      "metadata": {
        "colab": {
          "base_uri": "https://localhost:8080/"
        },
        "id": "WH7nHq7bD0hI",
        "outputId": "ae79c499-a238-4798-ca8f-55c1b5bbb152"
      },
      "execution_count": 13,
      "outputs": [
        {
          "output_type": "execute_result",
          "data": {
            "text/plain": [
              "3.0"
            ]
          },
          "metadata": {},
          "execution_count": 13
        }
      ]
    },
    {
      "cell_type": "code",
      "source": [
        "# How to find lower & upper fence\n",
        "lower_fence = q1 -(1.5*iqr)\n",
        "higher_fence = q3 +(1.5*iqr)\n",
        "print(lower_fence)\n",
        "print(higher_fence)"
      ],
      "metadata": {
        "colab": {
          "base_uri": "https://localhost:8080/"
        },
        "id": "scZNBiusDioa",
        "outputId": "237e27fa-e982-40d6-f7f7-34d2cbc265d7"
      },
      "execution_count": 14,
      "outputs": [
        {
          "output_type": "stream",
          "name": "stdout",
          "text": [
            "7.5\n",
            "19.5\n"
          ]
        }
      ]
    },
    {
      "cell_type": "code",
      "source": [
        "# You can simply create boxplot to visualize the outliers & remove them.\n",
        "sns.boxplot(dataset)"
      ],
      "metadata": {
        "colab": {
          "base_uri": "https://localhost:8080/",
          "height": 337
        },
        "id": "21vgB95AD_R4",
        "outputId": "0e09c22c-8b71-485d-c1a1-3312805aff56"
      },
      "execution_count": 15,
      "outputs": [
        {
          "output_type": "stream",
          "name": "stderr",
          "text": [
            "/usr/local/lib/python3.7/dist-packages/seaborn/_decorators.py:43: FutureWarning: Pass the following variable as a keyword arg: x. From version 0.12, the only valid positional argument will be `data`, and passing other arguments without an explicit keyword will result in an error or misinterpretation.\n",
            "  FutureWarning\n"
          ]
        },
        {
          "output_type": "execute_result",
          "data": {
            "text/plain": [
              "<matplotlib.axes._subplots.AxesSubplot at 0x7f1b4f25a5d0>"
            ]
          },
          "metadata": {},
          "execution_count": 15
        },
        {
          "output_type": "display_data",
          "data": {
            "image/png": "[encoded data removed]",
            "text/plain": [
              "<Figure size 432x288 with 1 Axes>"
            ]
          },
          "metadata": {
            "needs_background": "light"
          }
        }
      ]
    },
    {
      "cell_type": "code",
      "source": [
        "# Thanks!"
      ],
      "metadata": {
        "id": "ZKCzs4IUEnx1"
      },
      "execution_count": 16,
      "outputs": []
    }
  ]
}